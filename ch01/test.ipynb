{
 "cells": [
  {
   "cell_type": "code",
   "execution_count": 8,
   "metadata": {},
   "outputs": [],
   "source": [
    "import numpy as np\n",
    "\n",
    "from bandit import Bandit"
   ]
  },
  {
   "cell_type": "code",
   "execution_count": 9,
   "metadata": {},
   "outputs": [
    {
     "name": "stdout",
     "output_type": "stream",
     "text": [
      "0\n",
      "1\n",
      "0\n"
     ]
    }
   ],
   "source": [
    "bandit = Bandit()\n",
    "\n",
    "for i in range(3):\n",
    "    print(bandit.play(2))"
   ]
  },
  {
   "cell_type": "code",
   "execution_count": 10,
   "metadata": {},
   "outputs": [
    {
     "name": "stdout",
     "output_type": "stream",
     "text": [
      "0.0\n",
      "0.5\n",
      "0.33333333333333337\n",
      "0.5\n",
      "0.4\n",
      "0.5\n",
      "0.4285714285714286\n",
      "0.5\n",
      "0.4444444444444444\n",
      "0.39999999999999997\n"
     ]
    }
   ],
   "source": [
    "bandit = Bandit()\n",
    "Q = 0\n",
    "\n",
    "for n in range(1, 11):\n",
    "    reward = bandit.play(0)\n",
    "    Q += (reward - Q) / n\n",
    "    print(Q)"
   ]
  },
  {
   "cell_type": "code",
   "execution_count": 11,
   "metadata": {},
   "outputs": [
    {
     "name": "stdout",
     "output_type": "stream",
     "text": [
      "[0. 0. 0. 1. 0. 0. 0. 0. 0. 0.]\n",
      "[0. 0. 0. 1. 0. 0. 1. 0. 0. 0.]\n",
      "[0. 0. 0. 1. 0. 0. 1. 0. 0. 0.]\n",
      "[0. 0. 0. 1. 0. 0. 1. 0. 0. 1.]\n",
      "[0. 0. 0. 1. 0. 0. 1. 0. 0. 1.]\n",
      "[0. 0. 1. 1. 0. 0. 1. 0. 0. 1.]\n",
      "[0. 0. 1. 1. 0. 0. 1. 1. 0. 1.]\n",
      "[0. 0. 1. 1. 0. 0. 1. 1. 0. 1.]\n",
      "[0. 0. 1. 1. 0. 0. 1. 1. 0. 1.]\n",
      "[0. 0. 1. 1. 0. 0. 1. 1. 0. 1.]\n"
     ]
    }
   ],
   "source": [
    "bandit = Bandit()\n",
    "Qs = np.zeros(10) # 각 슬롯 머신의 가치 추정치\n",
    "ns = np.zeros(10) # 각 슬롯 머신의 플레이 횟수\n",
    "\n",
    "for n in range(10): \n",
    "    action = np.random.randint(0, 10) # 무작위 행동(임의의 슬롯 머신 선택)\n",
    "    reward = bandit.play(action)\n",
    "    \n",
    "    ns[action] += 1\n",
    "    Qs[action] += (reward - Qs[action]) / ns[action]\n",
    "    print(Qs)"
   ]
  },
  {
   "cell_type": "code",
   "execution_count": null,
   "metadata": {},
   "outputs": [],
   "source": []
  }
 ],
 "metadata": {
  "kernelspec": {
   "display_name": "deep_learning",
   "language": "python",
   "name": "python3"
  },
  "language_info": {
   "codemirror_mode": {
    "name": "ipython",
    "version": 3
   },
   "file_extension": ".py",
   "mimetype": "text/x-python",
   "name": "python",
   "nbconvert_exporter": "python",
   "pygments_lexer": "ipython3",
   "version": "3.10.16"
  }
 },
 "nbformat": 4,
 "nbformat_minor": 2
}
